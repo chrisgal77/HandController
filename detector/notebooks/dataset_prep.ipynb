{
 "cells": [
  {
   "cell_type": "code",
   "execution_count": 1,
   "id": "ef9bef2a",
   "metadata": {},
   "outputs": [],
   "source": [
    "import os\n",
    "import shutil\n",
    "import random"
   ]
  },
  {
   "cell_type": "code",
   "execution_count": 4,
   "id": "33a30dd7",
   "metadata": {},
   "outputs": [],
   "source": [
    "data_path = r'C:\\Users\\gkrzy\\OneDrive\\Pulpit\\dataset'\n",
    "target_path = r'C:\\Users\\gkrzy\\OneDrive\\Pulpit\\my_hand_dataset'"
   ]
  },
  {
   "cell_type": "code",
   "execution_count": 6,
   "id": "ebc8ce06",
   "metadata": {},
   "outputs": [],
   "source": [
    "for _type in os.listdir(data_path):\n",
    "    path = os.path.join(data_path, _type)\n",
    "    all_examples = [os.path.join(path, element) for element in os.listdir(path)]\n",
    "    number_examples = len(all_examples)\n",
    "    \n",
    "    train_examples = int(0.8 * number_examples)\n",
    "    val_examples = (number_examples - train_examples) // 2\n",
    "    test_examples = number_examples - train_examples - val_examples\n",
    "\n",
    "    while train_examples:\n",
    "        example = random.choice(all_examples)\n",
    "        shutil.copy2(example, os.path.join(r'C:\\Users\\gkrzy\\OneDrive\\Pulpit\\my_hand_dataset\\train', _type))\n",
    "        train_examples -= 1\n",
    "        all_examples.remove(example)\n",
    "    while val_examples:\n",
    "        example = random.choice(all_examples)\n",
    "        shutil.copy2(example, os.path.join(r'C:\\Users\\gkrzy\\OneDrive\\Pulpit\\my_hand_dataset\\validation', _type))\n",
    "        val_examples -= 1\n",
    "        all_examples.remove(example)\n",
    "    while test_examples:\n",
    "        example = random.choice(all_examples)\n",
    "        shutil.copy2(example, os.path.join(r'C:\\Users\\gkrzy\\OneDrive\\Pulpit\\my_hand_dataset\\test', _type))\n",
    "        test_examples -= 1\n",
    "        all_examples.remove(example)"
   ]
  },
  {
   "cell_type": "code",
   "execution_count": null,
   "id": "7953967f",
   "metadata": {},
   "outputs": [],
   "source": []
  }
 ],
 "metadata": {
  "kernelspec": {
   "display_name": "Python 3",
   "language": "python",
   "name": "python3"
  },
  "language_info": {
   "codemirror_mode": {
    "name": "ipython",
    "version": 3
   },
   "file_extension": ".py",
   "mimetype": "text/x-python",
   "name": "python",
   "nbconvert_exporter": "python",
   "pygments_lexer": "ipython3",
   "version": "3.9.0"
  }
 },
 "nbformat": 4,
 "nbformat_minor": 5
}
